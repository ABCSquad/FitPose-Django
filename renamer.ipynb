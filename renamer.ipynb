{
 "cells": [
  {
   "cell_type": "code",
   "execution_count": 2,
   "id": "middle-train",
   "metadata": {},
   "outputs": [],
   "source": [
    "import pathlib"
   ]
  },
  {
   "cell_type": "code",
   "execution_count": 3,
   "id": "incoming-passion",
   "metadata": {},
   "outputs": [],
   "source": [
    "path = pathlib.Path('./dataset_in/ohp/')"
   ]
  },
  {
   "cell_type": "code",
   "execution_count": 7,
   "id": "featured-reminder",
   "metadata": {},
   "outputs": [],
   "source": [
    "count = 1\n",
    "test = None\n",
    "for p in path.rglob('*.*g'):\n",
    "    if p.parent != test:\n",
    "        count = 1\n",
    "    newpath = p.parent/f'{p.parts[-2]}{str(count)}{p.suffix}'\n",
    "    if newpath.exists() == False:\n",
    "        p.rename(newpath)\n",
    "    print(newpath)\n",
    "    count+=1\n",
    "    test = p.parent"
   ]
  }
 ],
 "metadata": {
  "kernelspec": {
   "display_name": "Python 3",
   "language": "python",
   "name": "python3"
  },
  "language_info": {
   "codemirror_mode": {
    "name": "ipython",
    "version": 3
   },
   "file_extension": ".py",
   "mimetype": "text/x-python",
   "name": "python",
   "nbconvert_exporter": "python",
   "pygments_lexer": "ipython3",
   "version": "3.8.5"
  }
 },
 "nbformat": 4,
 "nbformat_minor": 5
}
