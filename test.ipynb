{
 "cells": [
  {
   "cell_type": "code",
   "execution_count": 1,
   "id": "assigned-burden",
   "metadata": {},
   "outputs": [],
   "source": [
    "import cv2\n",
    "import time\n",
    "from imutils.video import WebcamVideoStream\n",
    "import numpy as np\n",
    "import mediapipe as mp\n",
    "from exfunc import *\n",
    "from rep_counter import *\n",
    "import custom_drawing_utils\n",
    "import custom_pose\n",
    "import matplotlib.pyplot as plt\n",
    "\n",
    "# Setting initial reps and flag to 0\n",
    "reps = {}\n",
    "reps['count'] = 0\n",
    "reps['flag'] = -1\n",
    "reps['time'] = {}\n",
    "\n",
    "mp_drawing = custom_drawing_utils   #Using our own custom version of the drawing functions file\n",
    "mp_pose = custom_pose\n",
    "\n",
    "# For webcam input:\n",
    "cap = WebcamVideoStream(src=1).start()\n",
    "\n",
    "upper = True"
   ]
  },
  {
   "cell_type": "code",
   "execution_count": 2,
   "id": "saved-second",
   "metadata": {},
   "outputs": [],
   "source": [
    "with mp_pose.Pose(\n",
    "    static_image_mode=False,\n",
    "    upper_body_only=upper,\n",
    "    smooth_landmarks=True,\n",
    "    min_detection_confidence=0.9,\n",
    "    min_tracking_confidence=0.9) as pose:\n",
    "  \n",
    "  stats = cv2.imread(\"white2.jpg\") \n",
    "\n",
    "  while True:\n",
    "    start = time.time()\n",
    "    image = cap.read()\n",
    "    # stats = cv2.imread(\"white2.jpg\") \n",
    "    \n",
    "    # Flip the image horizontally for a later selfie-view display, and convert\n",
    "    # the BGR image to RGB.\n",
    "    image = cv2.cvtColor(cv2.flip(image, 1), cv2.COLOR_BGR2RGB)\n",
    "\n",
    "    # Display reps at down left corner\n",
    "    cv2.putText(image, f\"Reps: {reps['count']}\", (10, 460), cv2.FONT_HERSHEY_SIMPLEX, 1, (255, 0, 255), 2)\n",
    "\n",
    "    # To improve performance, optionally mark the image as not writeable to\n",
    "    # pass by reference.\n",
    "    image.flags.writeable = False\n",
    "    results = pose.process(image)\n",
    "\n",
    "    # Draw the pose annotation on the image.\n",
    "    image.flags.writeable = True\n",
    "    image = cv2.cvtColor(image, cv2.COLOR_RGB2BGR)\n",
    "    #Creating a uper_body_only yes/no state\n",
    "\n",
    "    #Creating a list of dictionaries of the keypoints (x,y,z,visibility)\n",
    "    if results.pose_landmarks:\n",
    "\n",
    "      keypoints = []\n",
    "      for data_point in results.pose_landmarks.landmark:\n",
    "        keypoints.append({\n",
    "          \"X\": data_point.x,\n",
    "          \"Y\": data_point.y,\n",
    "          \"Z\": data_point.z,\n",
    "          \"Visibility\": data_point.visibility,\n",
    "        })\n",
    "      image, stats, reps= bicep_curl(image, keypoints, \"right\", reps)\n",
    "\n",
    "    else:\n",
    "      image = cv2.putText(image, \"Upper body not visible\", (5,20), cv2.FONT_HERSHEY_SIMPLEX, 0.75, (0,0,255), 2, cv2.LINE_AA)\n",
    "    if upper==False:  \n",
    "      mp_drawing.draw_landmarks(image, results.pose_landmarks, mp_pose.POSE_CONNECTIONS)\n",
    "    elif upper==True:\n",
    "      mp_drawing.draw_landmarks(image, results.pose_landmarks, mp_pose.BICEP_RIGHT)\n",
    "    \n",
    "    end = time.time()\n",
    "    if stats is not None:\n",
    "      cv2.imshow(\"Stats\", stats)\n",
    "    image = cv2.putText(image, str(round((1/(end-start)),2)), (565,25), cv2.FONT_HERSHEY_SIMPLEX, 0.75, (0,255,0), 2, cv2.LINE_AA)\n",
    "    cv2.imshow('FitPose', image)\n",
    "    if cv2.waitKey(5) & 0xFF == 27:\n",
    "      break\n",
    "    \n"
   ]
  },
  {
   "cell_type": "code",
   "execution_count": 5,
   "id": "ethical-redhead",
   "metadata": {},
   "outputs": [
    {
     "name": "stdout",
     "output_type": "stream",
     "text": [
      "{'count': 8, 'flag': 1, 'time': {'no': 1617632822.812364}}\n"
     ]
    }
   ],
   "source": [
    "print(reps)"
   ]
  },
  {
   "cell_type": "code",
   "execution_count": 3,
   "id": "comfortable-radio",
   "metadata": {},
   "outputs": [],
   "source": [
    "rep_time2 = reps['time']\n",
    "reps['time'] = rep_time2"
   ]
  },
  {
   "cell_type": "code",
   "execution_count": 3,
   "id": "hungry-departure",
   "metadata": {},
   "outputs": [
    {
     "ename": "KeyError",
     "evalue": "1",
     "output_type": "error",
     "traceback": [
      "\u001b[0;31m---------------------------------------------------------------------------\u001b[0m",
      "\u001b[0;31mKeyError\u001b[0m                                  Traceback (most recent call last)",
      "\u001b[0;32m<ipython-input-3-f26ae292e69e>\u001b[0m in \u001b[0;36m<module>\u001b[0;34m\u001b[0m\n\u001b[1;32m      1\u001b[0m \u001b[0;32mfor\u001b[0m \u001b[0mi\u001b[0m \u001b[0;32min\u001b[0m \u001b[0mrange\u001b[0m\u001b[0;34m(\u001b[0m\u001b[0;36m1\u001b[0m\u001b[0;34m,\u001b[0m \u001b[0mreps\u001b[0m\u001b[0;34m[\u001b[0m\u001b[0;34m'count'\u001b[0m\u001b[0;34m]\u001b[0m\u001b[0;34m)\u001b[0m\u001b[0;34m:\u001b[0m\u001b[0;34m\u001b[0m\u001b[0;34m\u001b[0m\u001b[0m\n\u001b[1;32m      2\u001b[0m \u001b[0;31m#     rep_time[i] = rep_time[i+1] - rep_time[i]\u001b[0m\u001b[0;34m\u001b[0m\u001b[0;34m\u001b[0m\u001b[0;34m\u001b[0m\u001b[0m\n\u001b[0;32m----> 3\u001b[0;31m     \u001b[0mprint\u001b[0m\u001b[0;34m(\u001b[0m\u001b[0mi\u001b[0m\u001b[0;34m,\u001b[0m \u001b[0mreps\u001b[0m\u001b[0;34m[\u001b[0m\u001b[0;34m'time'\u001b[0m\u001b[0;34m]\u001b[0m\u001b[0;34m[\u001b[0m\u001b[0mi\u001b[0m\u001b[0;34m]\u001b[0m\u001b[0;34m)\u001b[0m\u001b[0;34m\u001b[0m\u001b[0;34m\u001b[0m\u001b[0m\n\u001b[0m",
      "\u001b[0;31mKeyError\u001b[0m: 1"
     ]
    }
   ],
   "source": [
    "for i in range(1, reps['count']):\n",
    "#     rep_time[i] = rep_time[i+1] - rep_time[i]\n",
    "    print(i, reps['time'][i])"
   ]
  },
  {
   "cell_type": "code",
   "execution_count": null,
   "id": "productive-latex",
   "metadata": {},
   "outputs": [],
   "source": [
    "plt.plot(range(1, reps), list(rep_time.values())[:reps-1])"
   ]
  }
 ],
 "metadata": {
  "kernelspec": {
   "display_name": "Python 3",
   "language": "python",
   "name": "python3"
  },
  "language_info": {
   "codemirror_mode": {
    "name": "ipython",
    "version": 3
   },
   "file_extension": ".py",
   "mimetype": "text/x-python",
   "name": "python",
   "nbconvert_exporter": "python",
   "pygments_lexer": "ipython3",
   "version": "3.8.5"
  }
 },
 "nbformat": 4,
 "nbformat_minor": 5
}
