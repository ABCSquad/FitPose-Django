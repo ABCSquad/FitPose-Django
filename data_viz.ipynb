{
 "cells": [
  {
   "cell_type": "code",
   "execution_count": null,
   "id": "assigned-burden",
   "metadata": {},
   "outputs": [],
   "source": [
    "import pandas as pd\n",
    "import matplotlib.pyplot as plt\n",
    "import seaborn as sns\n",
    "import plotly.express as px\n",
    "import plotly.graph_objects as go\n",
    "\n",
    "from pose import *\n",
    "import warnings\n",
    "warnings.filterwarnings('ignore')"
   ]
  },
  {
   "cell_type": "code",
   "execution_count": null,
   "id": "indirect-three",
   "metadata": {
    "scrolled": true
   },
   "outputs": [],
   "source": [
    "reps = {}\n",
    "main(reps)"
   ]
  },
  {
   "cell_type": "code",
   "execution_count": null,
   "id": "productive-latex",
   "metadata": {},
   "outputs": [],
   "source": [
    "rep_no = list(range(1, reps['count']))\n",
    "time = list(reps['time'].values())[:reps['count']-1]\n",
    "correct_form = list(reps['correct_form'].values())[:reps['count']-1]\n",
    "wrong_form = list(reps['wrong_form'].values())[:reps['count']-1]"
   ]
  },
  {
   "cell_type": "code",
   "execution_count": null,
   "id": "median-planner",
   "metadata": {},
   "outputs": [],
   "source": [
    "data = [rep_no, time, correct_form, wrong_form]\n",
    "columns = ['rep_no', 'time', 'correct_form', 'wrong_form']"
   ]
  },
  {
   "cell_type": "code",
   "execution_count": null,
   "id": "lightweight-practice",
   "metadata": {},
   "outputs": [],
   "source": [
    "data = pd.DataFrame(data, columns).transpose()"
   ]
  },
  {
   "cell_type": "code",
   "execution_count": null,
   "id": "palestinian-toilet",
   "metadata": {
    "scrolled": true
   },
   "outputs": [],
   "source": [
    "data.head()"
   ]
  },
  {
   "cell_type": "code",
   "execution_count": null,
   "id": "isolated-switch",
   "metadata": {},
   "outputs": [],
   "source": [
    "figure = plt.figure(figsize=(10, 6))\n",
    "\n",
    "sns.set_style('darkgrid', {'axes.edgecolor': 'black'})\n",
    "sns.set_context('talk')\n",
    "sns.lineplot(data=data, x='rep_no', y='time',\n",
    "             color='darkviolet', lw=2,\n",
    "            marker='o', ms=12, mec='white', mew=2)\n",
    "\n",
    "plt.xticks(rep_no)\n",
    "plt.xlabel('Rep no.')\n",
    "plt.ylabel('Time (s)')\n",
    "plt.title(\"Time spent doing each rep\\n\")\n",
    "\n",
    "plt.show()"
   ]
  },
  {
   "cell_type": "code",
   "execution_count": null,
   "id": "assisted-surgeon",
   "metadata": {},
   "outputs": [],
   "source": [
    "sns.axes_style()"
   ]
  },
  {
   "cell_type": "code",
   "execution_count": null,
   "id": "average-berlin",
   "metadata": {},
   "outputs": [],
   "source": [
    "figure2 = go.Figure()\n",
    "\n",
    "figure2.add_trace(go.Scatter(x=data['rep_no'], y=data['time'],\n",
    "                             marker=dict(size=12,\n",
    "                                        line=dict(width=2, color='white')),\n",
    "                         line=dict(color='darkviolet', width=2)))\n",
    "\n",
    "figure2.update_layout(title='Time spent doing each rep',\n",
    "                   xaxis_title='Rep no.',\n",
    "                   yaxis_title='Time (s)',\n",
    "                      xaxis=dict(dtick=1),\n",
    "                    plot_bgcolor='#EAEAF2',\n",
    "                     font_size=15)\n",
    "\n",
    "figure2.update_xaxes(showline=True, linewidth=2, linecolor='black', mirror=True)\n",
    "figure2.update_yaxes(showline=True, linewidth=2, linecolor='black', mirror=True)\n",
    "\n",
    "figure2.show()"
   ]
  }
 ],
 "metadata": {
  "kernelspec": {
   "display_name": "Python 3",
   "language": "python",
   "name": "python3"
  },
  "language_info": {
   "codemirror_mode": {
    "name": "ipython",
    "version": 3
   },
   "file_extension": ".py",
   "mimetype": "text/x-python",
   "name": "python",
   "nbconvert_exporter": "python",
   "pygments_lexer": "ipython3",
   "version": "3.8.5"
  }
 },
 "nbformat": 4,
 "nbformat_minor": 5
}
