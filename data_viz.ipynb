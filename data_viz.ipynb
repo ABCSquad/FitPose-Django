{
 "cells": [
  {
   "cell_type": "markdown",
   "id": "innocent-ownership",
   "metadata": {},
   "source": [
    "# Imports"
   ]
  },
  {
   "cell_type": "code",
   "execution_count": 1,
   "id": "assigned-burden",
   "metadata": {},
   "outputs": [],
   "source": [
    "import pandas as pd\n",
    "import matplotlib.pyplot as plt\n",
    "import seaborn as sns\n",
    "import plotly.graph_objects as go\n",
    "import plotly.express as px\n",
    "\n",
    "from pose import *\n",
    "from df_to_db import *\n",
    "import warnings\n",
    "warnings.filterwarnings('ignore') # Suppressing warnings"
   ]
  },
  {
   "cell_type": "markdown",
   "id": "banner-brief",
   "metadata": {},
   "source": [
    "# Running main"
   ]
  },
  {
   "cell_type": "code",
   "execution_count": null,
   "id": "indirect-three",
   "metadata": {
    "scrolled": true
   },
   "outputs": [],
   "source": [
    "reps = {}\n",
    "stats_dict = {}\n",
    "main_pose(stats_dict,reps,\"bicep_curl\",\"right\",100)"
   ]
  },
  {
   "cell_type": "markdown",
   "id": "revolutionary-campbell",
   "metadata": {},
   "source": [
    "# Saving relevant values as lists"
   ]
  },
  {
   "cell_type": "code",
   "execution_count": null,
   "id": "productive-latex",
   "metadata": {},
   "outputs": [],
   "source": [
    "rep_no = list(range(1, reps['count']+1))\n",
    "\n",
    "time = list(reps['time'].values())[:reps['count']]\n",
    "time = [round(x,1) for x in time] # Rounding values to single decimal point\n",
    "time_label = [f'{str(x)}s' for x in time]\n",
    "\n",
    "correct_form = list(reps['correct_form'].values())[:reps['count']]\n",
    "correct_form = [round(x,1) for x in correct_form]\n",
    "correct_form_label = [f'{str(x)}s' for x in correct_form]\n",
    "\n",
    "wrong_form = list(reps['wrong_form'].values())[:reps['count']]\n",
    "wrong_form = [round(x,1) for x in wrong_form]\n",
    "wrong_form_label = [f'{str(x)}s' for x in wrong_form]"
   ]
  },
  {
   "cell_type": "markdown",
   "id": "visible-scott",
   "metadata": {},
   "source": [
    "# Storing lists in a pandas dataframe"
   ]
  },
  {
   "cell_type": "code",
   "execution_count": null,
   "id": "median-planner",
   "metadata": {},
   "outputs": [],
   "source": [
    "data = [rep_no, time, correct_form, wrong_form]\n",
    "columns = ['rep_no', 'time', 'correct_form', 'wrong_form']"
   ]
  },
  {
   "cell_type": "code",
   "execution_count": null,
   "id": "lightweight-practice",
   "metadata": {},
   "outputs": [],
   "source": [
    "data = pd.DataFrame(data, columns).transpose()"
   ]
  },
  {
   "cell_type": "code",
   "execution_count": null,
   "id": "palestinian-toilet",
   "metadata": {},
   "outputs": [],
   "source": [
    "data"
   ]
  },
  {
   "cell_type": "markdown",
   "id": "sufficient-philip",
   "metadata": {},
   "source": [
    "# Saving into database"
   ]
  },
  {
   "cell_type": "code",
   "execution_count": null,
   "id": "fresh-quality",
   "metadata": {},
   "outputs": [],
   "source": [
    "df = dataframer(reps)"
   ]
  },
  {
   "cell_type": "code",
   "execution_count": 2,
   "id": "saving-swedish",
   "metadata": {},
   "outputs": [],
   "source": [
    "databaser()"
   ]
  },
  {
   "cell_type": "markdown",
   "id": "ongoing-jumping",
   "metadata": {},
   "source": [
    "# Making another dataframe to save form of each frame"
   ]
  },
  {
   "cell_type": "code",
   "execution_count": null,
   "id": "accurate-auditor",
   "metadata": {},
   "outputs": [],
   "source": [
    "form_df = pd.DataFrame(reps['frame_form']).transpose()\n",
    "form_df.columns=['Rep no.','Form']\n",
    "form_df['Frame']=form_df.index+1\n",
    "form_df['Ones']=np.ones([reps['frame']])\n",
    "form_df"
   ]
  },
  {
   "cell_type": "markdown",
   "id": "contrary-construction",
   "metadata": {},
   "source": [
    "# X and Y axis settings"
   ]
  },
  {
   "cell_type": "code",
   "execution_count": null,
   "id": "photographic-cambodia",
   "metadata": {},
   "outputs": [],
   "source": [
    "xaxis=dict(showline=True,\n",
    "           linewidth=2,\n",
    "           linecolor='black',\n",
    "           mirror=True, # To create border outline\n",
    "           dtick=1) # Setting x ticks to show each rep count\n",
    "\n",
    "yaxis=dict(showline=True,\n",
    "           linewidth=2,\n",
    "           linecolor='black',\n",
    "           mirror=True)\n",
    "\n",
    "xaxis2=dict(showticklabels=False,\n",
    "           showline=True,\n",
    "           linewidth=2,\n",
    "           linecolor='black',\n",
    "           mirror=True) # To create border outline\n",
    "\n",
    "yaxis2=dict(showticklabels=False,\n",
    "           showline=True,\n",
    "           linewidth=2,\n",
    "           linecolor='black',\n",
    "           mirror=True)"
   ]
  },
  {
   "cell_type": "markdown",
   "id": "charged-consciousness",
   "metadata": {},
   "source": [
    "# Time vs. Reps iplot using plotly"
   ]
  },
  {
   "cell_type": "code",
   "execution_count": null,
   "id": "average-berlin",
   "metadata": {},
   "outputs": [],
   "source": [
    "fig1= go.Figure()\n",
    "\n",
    "fig1.add_trace(go.Scatter(x=data['rep_no'],\n",
    "                         y=data['time'],\n",
    "                         text=time_label,\n",
    "                         hoverinfo='text',\n",
    "                         line=dict(color='darkviolet',\n",
    "                                   width=3),\n",
    "                         stackgroup='one' # To fill color beneath the plotted area\n",
    "                        ))\n",
    "\n",
    "fig1.update_layout(title='Time spent doing each rep',\n",
    "                  xaxis_title='Rep no.',\n",
    "                  yaxis_title='Time (s)',\n",
    "                  xaxis=xaxis,\n",
    "                  yaxis=yaxis,\n",
    "                  plot_bgcolor='#EAEAF2',\n",
    "                  font_size=15\n",
    "                 )\n",
    "\n",
    "fig1.show()"
   ]
  },
  {
   "cell_type": "markdown",
   "id": "loose-defendant",
   "metadata": {},
   "source": [
    "# Time vs. Reps iplot comparing correct form to wrong form"
   ]
  },
  {
   "cell_type": "code",
   "execution_count": null,
   "id": "prospective-given",
   "metadata": {
    "scrolled": false
   },
   "outputs": [],
   "source": [
    "fig2 = go.Figure()\n",
    "\n",
    "fig2.add_trace(go.Scatter(\n",
    "    name='Wrong form',\n",
    "    x=rep_no,\n",
    "    y=wrong_form,\n",
    "    text=wrong_form_label,\n",
    "    hoverinfo='text',\n",
    "    mode='lines',\n",
    "    line=dict(width=3,\n",
    "              color='red'),\n",
    "    stackgroup='one'\n",
    "))\n",
    "\n",
    "fig2.add_trace(go.Scatter(\n",
    "    name='Correct form',\n",
    "    x=rep_no,\n",
    "    y=correct_form,\n",
    "    text=correct_form_label,\n",
    "    hoverinfo='text',\n",
    "    mode='lines',\n",
    "    line=dict(width=3,\n",
    "              color='rgb(111, 231, 219)'),\n",
    "    stackgroup='one'\n",
    "))\n",
    "\n",
    "fig2.update_layout(title='Correct form vs. Wrong form with rep progression',\n",
    "                   xaxis_title='Rep no.',\n",
    "                   yaxis_title='Time (s)',\n",
    "                   xaxis=xaxis,\n",
    "                   yaxis=yaxis,\n",
    "                   plot_bgcolor='#EAEAF2',\n",
    "                   font_size=15\n",
    "                  )\n",
    "\n",
    "fig2.show()"
   ]
  },
  {
   "cell_type": "markdown",
   "id": "varying-tobacco",
   "metadata": {},
   "source": [
    "# Barplot comparing cumulative time spent doing correct and wrong form"
   ]
  },
  {
   "cell_type": "code",
   "execution_count": null,
   "id": "dominant-encounter",
   "metadata": {},
   "outputs": [],
   "source": [
    "total_correct =round(sum(correct_form), 1)\n",
    "total_wrong = round(sum(wrong_form), 1)\n",
    "\n",
    "x_bar = ['Correct form', 'Wrong form']\n",
    "y_bar = [total_correct, total_wrong]\n",
    "y_label = [f'{str(x)}s' for x in y_bar]\n",
    "\n",
    "form_colors = ['rgba(111, 231, 219, 0.5)', 'rgba(255,0,0,0.5)'] # Using rgba to set different opacity for marker and marker line\n",
    "form_line_colors = ['rgba(111, 231, 219, 1)', 'rgba(255,0,0,1)']"
   ]
  },
  {
   "cell_type": "code",
   "execution_count": null,
   "id": "analyzed-stack",
   "metadata": {},
   "outputs": [],
   "source": [
    "fig3 = go.Figure([go.Bar(x=x_bar, \n",
    "                         y=y_bar,\n",
    "                         text=y_label, \n",
    "                         hoverinfo='x+text',\n",
    "                         textposition='outside',\n",
    "                         marker=dict(color=form_colors,\n",
    "                                     line=dict(color=form_line_colors,\n",
    "                                               width=3))\n",
    "                        )])\n",
    "\n",
    "fig3.update_layout(title='Correct form vs. Wrong form (Cumulative)',\n",
    "                   yaxis_title='Time (s)',\n",
    "                   plot_bgcolor='#EAEAF2',\n",
    "                   font_size=15\n",
    "                  )\n",
    "\n",
    "fig3.show()"
   ]
  },
  {
   "cell_type": "markdown",
   "id": "usual-scotland",
   "metadata": {},
   "source": [
    "# Pie chart comparing cumulative time spent doing correct and wrong form"
   ]
  },
  {
   "cell_type": "code",
   "execution_count": null,
   "id": "revised-meeting",
   "metadata": {},
   "outputs": [],
   "source": [
    "fig4 = go.Figure(data=[go.Pie(labels=x_bar,\n",
    "                              values=y_bar)])\n",
    "\n",
    "fig4.update_traces(hoverinfo='label+percent', \n",
    "                   text=y_label,\n",
    "                   textinfo='text', \n",
    "                   textfont_size=20,\n",
    "                   marker=dict(colors=form_colors, \n",
    "                               line=dict(color=form_line_colors, \n",
    "                                         width=3))\n",
    "                  )\n",
    "\n",
    "fig4.show()"
   ]
  },
  {
   "cell_type": "markdown",
   "id": "vanilla-danish",
   "metadata": {},
   "source": [
    "# Rug plot showing continuous form in each frame"
   ]
  },
  {
   "cell_type": "code",
   "execution_count": null,
   "id": "reduced-trade",
   "metadata": {},
   "outputs": [],
   "source": [
    "fig5 = px.bar(data_frame=form_df,\n",
    "             x='Frame',\n",
    "             y='Ones',\n",
    "             hover_data={'Rep no.':True,\n",
    "                        'Ones':False,\n",
    "                        'Frame':False,\n",
    "                        'Form':False},\n",
    "             labels={'Ones':'','Frame':'Reps'},\n",
    "             color='Form',\n",
    "             color_discrete_sequence=[\"red\", \"rgb(111, 231, 219)\"],\n",
    "             height=400,\n",
    "            )\n",
    "\n",
    "fig5.update_layout(title='Continuous form with rep progression',\n",
    "                   xaxis=xaxis2,\n",
    "                   yaxis=yaxis2,\n",
    "                   plot_bgcolor='#EAEAF2',\n",
    "                   font_size=15,\n",
    "                   legend_title_text='',\n",
    "                   bargap=0, # gap between bars of adjacent location coordinates.\n",
    "                  )\n",
    "fig5.show()"
   ]
  }
 ],
 "metadata": {
  "kernelspec": {
   "display_name": "Python 3",
   "language": "python",
   "name": "python3"
  },
  "language_info": {
   "codemirror_mode": {
    "name": "ipython",
    "version": 3
   },
   "file_extension": ".py",
   "mimetype": "text/x-python",
   "name": "python",
   "nbconvert_exporter": "python",
   "pygments_lexer": "ipython3",
   "version": "3.8.5"
  }
 },
 "nbformat": 4,
 "nbformat_minor": 5
}
