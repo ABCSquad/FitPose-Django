{
 "cells": [
  {
   "cell_type": "markdown",
   "id": "systematic-mandate",
   "metadata": {},
   "source": [
    "## Basic imports"
   ]
  },
  {
   "cell_type": "code",
   "execution_count": 1,
   "id": "competent-victory",
   "metadata": {},
   "outputs": [],
   "source": [
    "import numpy as np\n",
    "import pandas as pd\n",
    "\n",
    "from sklearn.model_selection import train_test_split\n",
    "from sklearn.preprocessing import StandardScaler\n",
    "from sklearn.neighbors import KNeighborsClassifier\n",
    "from sklearn.metrics import confusion_matrix, f1_score, accuracy_score"
   ]
  },
  {
   "cell_type": "markdown",
   "id": "light-consultancy",
   "metadata": {},
   "source": [
    "## Loading data"
   ]
  },
  {
   "cell_type": "code",
   "execution_count": 2,
   "id": "defined-affiliation",
   "metadata": {},
   "outputs": [],
   "source": [
    "dataset = pd.read_csv('./dataset_out/ohp/ohp1.csv')"
   ]
  },
  {
   "cell_type": "code",
   "execution_count": 3,
   "id": "bulgarian-portland",
   "metadata": {},
   "outputs": [
    {
     "data": {
      "text/html": [
       "<div>\n",
       "<style scoped>\n",
       "    .dataframe tbody tr th:only-of-type {\n",
       "        vertical-align: middle;\n",
       "    }\n",
       "\n",
       "    .dataframe tbody tr th {\n",
       "        vertical-align: top;\n",
       "    }\n",
       "\n",
       "    .dataframe thead th {\n",
       "        text-align: right;\n",
       "    }\n",
       "</style>\n",
       "<table border=\"1\" class=\"dataframe\">\n",
       "  <thead>\n",
       "    <tr style=\"text-align: right;\">\n",
       "      <th></th>\n",
       "      <th>image</th>\n",
       "      <th>target</th>\n",
       "      <th>left_shoulder_x</th>\n",
       "      <th>left_shoulder_y</th>\n",
       "      <th>right_shoulder_x</th>\n",
       "      <th>right_shoulder_y</th>\n",
       "      <th>left_elbow_x</th>\n",
       "      <th>left_elbow_y</th>\n",
       "      <th>right_elbow_x</th>\n",
       "      <th>right_elbow_y</th>\n",
       "      <th>left_wrist_x</th>\n",
       "      <th>left_wrist_y</th>\n",
       "      <th>right_wrist_x</th>\n",
       "      <th>right_wrist_y</th>\n",
       "    </tr>\n",
       "  </thead>\n",
       "  <tbody>\n",
       "    <tr>\n",
       "      <th>0</th>\n",
       "      <td>ohp_down1.png</td>\n",
       "      <td>ohp_down</td>\n",
       "      <td>0.73767</td>\n",
       "      <td>0.50191</td>\n",
       "      <td>0.47688</td>\n",
       "      <td>0.51468</td>\n",
       "      <td>0.92032</td>\n",
       "      <td>0.58777</td>\n",
       "      <td>0.30116</td>\n",
       "      <td>0.57168</td>\n",
       "      <td>0.85256</td>\n",
       "      <td>0.32526</td>\n",
       "      <td>0.30086</td>\n",
       "      <td>0.33564</td>\n",
       "    </tr>\n",
       "    <tr>\n",
       "      <th>1</th>\n",
       "      <td>ohp_down10.png</td>\n",
       "      <td>ohp_down</td>\n",
       "      <td>0.55057</td>\n",
       "      <td>0.43201</td>\n",
       "      <td>0.39838</td>\n",
       "      <td>0.43643</td>\n",
       "      <td>0.66951</td>\n",
       "      <td>0.46534</td>\n",
       "      <td>0.28874</td>\n",
       "      <td>0.47819</td>\n",
       "      <td>0.65802</td>\n",
       "      <td>0.27147</td>\n",
       "      <td>0.29648</td>\n",
       "      <td>0.28925</td>\n",
       "    </tr>\n",
       "    <tr>\n",
       "      <th>2</th>\n",
       "      <td>ohp_down11.jpg</td>\n",
       "      <td>ohp_down</td>\n",
       "      <td>0.66399</td>\n",
       "      <td>0.31986</td>\n",
       "      <td>0.40936</td>\n",
       "      <td>0.31824</td>\n",
       "      <td>0.85152</td>\n",
       "      <td>0.33363</td>\n",
       "      <td>0.23641</td>\n",
       "      <td>0.33168</td>\n",
       "      <td>0.84250</td>\n",
       "      <td>0.19123</td>\n",
       "      <td>0.22904</td>\n",
       "      <td>0.19599</td>\n",
       "    </tr>\n",
       "    <tr>\n",
       "      <th>3</th>\n",
       "      <td>ohp_down12.jpg</td>\n",
       "      <td>ohp_down</td>\n",
       "      <td>0.64791</td>\n",
       "      <td>0.22908</td>\n",
       "      <td>0.35068</td>\n",
       "      <td>0.22980</td>\n",
       "      <td>0.87286</td>\n",
       "      <td>0.26984</td>\n",
       "      <td>0.12961</td>\n",
       "      <td>0.26623</td>\n",
       "      <td>0.86836</td>\n",
       "      <td>0.14607</td>\n",
       "      <td>0.12085</td>\n",
       "      <td>0.13227</td>\n",
       "    </tr>\n",
       "    <tr>\n",
       "      <th>4</th>\n",
       "      <td>ohp_down13.png</td>\n",
       "      <td>ohp_down</td>\n",
       "      <td>0.53457</td>\n",
       "      <td>0.32687</td>\n",
       "      <td>0.44243</td>\n",
       "      <td>0.32069</td>\n",
       "      <td>0.59847</td>\n",
       "      <td>0.37498</td>\n",
       "      <td>0.38157</td>\n",
       "      <td>0.36153</td>\n",
       "      <td>0.58193</td>\n",
       "      <td>0.26169</td>\n",
       "      <td>0.39629</td>\n",
       "      <td>0.25217</td>\n",
       "    </tr>\n",
       "  </tbody>\n",
       "</table>\n",
       "</div>"
      ],
      "text/plain": [
       "            image    target  left_shoulder_x  left_shoulder_y  \\\n",
       "0   ohp_down1.png  ohp_down          0.73767          0.50191   \n",
       "1  ohp_down10.png  ohp_down          0.55057          0.43201   \n",
       "2  ohp_down11.jpg  ohp_down          0.66399          0.31986   \n",
       "3  ohp_down12.jpg  ohp_down          0.64791          0.22908   \n",
       "4  ohp_down13.png  ohp_down          0.53457          0.32687   \n",
       "\n",
       "   right_shoulder_x  right_shoulder_y  left_elbow_x  left_elbow_y  \\\n",
       "0           0.47688           0.51468       0.92032       0.58777   \n",
       "1           0.39838           0.43643       0.66951       0.46534   \n",
       "2           0.40936           0.31824       0.85152       0.33363   \n",
       "3           0.35068           0.22980       0.87286       0.26984   \n",
       "4           0.44243           0.32069       0.59847       0.37498   \n",
       "\n",
       "   right_elbow_x  right_elbow_y   left_wrist_x  left_wrist_y  right_wrist_x  \\\n",
       "0        0.30116        0.57168        0.85256       0.32526        0.30086   \n",
       "1        0.28874        0.47819        0.65802       0.27147        0.29648   \n",
       "2        0.23641        0.33168        0.84250       0.19123        0.22904   \n",
       "3        0.12961        0.26623        0.86836       0.14607        0.12085   \n",
       "4        0.38157        0.36153        0.58193       0.26169        0.39629   \n",
       "\n",
       "   right_wrist_y  \n",
       "0        0.33564  \n",
       "1        0.28925  \n",
       "2        0.19599  \n",
       "3        0.13227  \n",
       "4        0.25217  "
      ]
     },
     "execution_count": 3,
     "metadata": {},
     "output_type": "execute_result"
    }
   ],
   "source": [
    "# For setting column names:-\n",
    "# image,target,left_shoulder_x,left_shoulder_y,right_shoulder_x,right_shoulder_y,left_elbow_x,left_elbow_y,right_elbow_x,right_elbow_y, left_wrist_x,left_wrist_y,right_wrist_x,right_wrist_y\n",
    "\n",
    "dataset.head()"
   ]
  },
  {
   "cell_type": "markdown",
   "id": "naked-turner",
   "metadata": {},
   "source": [
    "## Saving features and labels to X and y respectively"
   ]
  },
  {
   "cell_type": "code",
   "execution_count": 4,
   "id": "offshore-category",
   "metadata": {},
   "outputs": [],
   "source": [
    "X = dataset.iloc[:, 2:]\n",
    "y = dataset.iloc[:, 1]"
   ]
  },
  {
   "cell_type": "markdown",
   "id": "activated-flight",
   "metadata": {},
   "source": [
    "## Scaling data if required"
   ]
  },
  {
   "cell_type": "code",
   "execution_count": null,
   "id": "tight-sunday",
   "metadata": {},
   "outputs": [],
   "source": [
    "# Use X_train and X_test while testing\n",
    "scaler = StandardScaler()\n",
    "X = scaler.fit_transform(X)\n",
    "X = scaler.fit_transform(X)"
   ]
  },
  {
   "cell_type": "markdown",
   "id": "clinical-battlefield",
   "metadata": {},
   "source": [
    "## Training classifier"
   ]
  },
  {
   "cell_type": "code",
   "execution_count": null,
   "id": "coated-exercise",
   "metadata": {},
   "outputs": [],
   "source": [
    "# Use X_train and y_train while testing\n",
    "classifier = KNeighborsClassifier(n_neighbors=9, p=2, metric='euclidean')\n",
    "classifier.fit(X, y)"
   ]
  },
  {
   "cell_type": "markdown",
   "id": "flying-provincial",
   "metadata": {},
   "source": [
    "## For testing"
   ]
  },
  {
   "cell_type": "code",
   "execution_count": null,
   "id": "rough-portrait",
   "metadata": {},
   "outputs": [],
   "source": [
    "X_train, X_test, y_train, y_test = train_test_split(X, y, test_size=0.2)"
   ]
  },
  {
   "cell_type": "code",
   "execution_count": null,
   "id": "empty-respondent",
   "metadata": {},
   "outputs": [],
   "source": [
    "y_pred = classifier.predict(X_test)"
   ]
  },
  {
   "cell_type": "code",
   "execution_count": null,
   "id": "intelligent-oklahoma",
   "metadata": {},
   "outputs": [],
   "source": [
    "confusion_matrix(y_test, y_pred)"
   ]
  },
  {
   "cell_type": "code",
   "execution_count": null,
   "id": "finite-exclusion",
   "metadata": {},
   "outputs": [],
   "source": [
    "classifier.predict_proba(X_test)"
   ]
  },
  {
   "cell_type": "code",
   "execution_count": null,
   "id": "subtle-reading",
   "metadata": {},
   "outputs": [],
   "source": [
    "accuracy_score(y_test, y_pred)"
   ]
  },
  {
   "cell_type": "markdown",
   "id": "figured-wrapping",
   "metadata": {},
   "source": [
    "## For saving model"
   ]
  },
  {
   "cell_type": "code",
   "execution_count": null,
   "id": "developing-opportunity",
   "metadata": {},
   "outputs": [],
   "source": [
    "import pickle"
   ]
  },
  {
   "cell_type": "code",
   "execution_count": null,
   "id": "retained-hindu",
   "metadata": {},
   "outputs": [],
   "source": [
    "knnPickle = open('./dataset_out/ohp/knn_ohp', 'wb')"
   ]
  },
  {
   "cell_type": "code",
   "execution_count": null,
   "id": "registered-ozone",
   "metadata": {},
   "outputs": [],
   "source": [
    "pickle.dump(classifier, knnPickle)"
   ]
  }
 ],
 "metadata": {
  "kernelspec": {
   "display_name": "Python 3",
   "language": "python",
   "name": "python3"
  },
  "language_info": {
   "codemirror_mode": {
    "name": "ipython",
    "version": 3
   },
   "file_extension": ".py",
   "mimetype": "text/x-python",
   "name": "python",
   "nbconvert_exporter": "python",
   "pygments_lexer": "ipython3",
   "version": "3.8.5"
  }
 },
 "nbformat": 4,
 "nbformat_minor": 5
}
